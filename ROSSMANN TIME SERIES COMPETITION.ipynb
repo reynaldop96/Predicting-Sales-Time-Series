{
 "cells": [
  {
   "cell_type": "markdown",
   "metadata": {},
   "source": [
    "# Predicting Future Sales"
   ]
  },
  {
   "cell_type": "markdown",
   "metadata": {},
   "source": [
    "This project is part of a Kaggle competition where participants are tasked to predict sales data for up to 6 weeks in advance for various convenience stores. The Kaggle competition description reads as follows:\n",
    "\n",
    "\"Rossmann operates over 3,000 drug stores in 7 European countries. Currently, Rossmann store managers are tasked with predicting their daily sales for up to six weeks in advance. Store sales are influenced by many factors, including promotions, competition, school and state holidays, seasonality, and locality. With thousands of individual managers predicting sales based on their unique circumstances, the accuracy of results can be quite varied.\"\n",
    "\n",
    "For exploratory data analysis step, I used all the data provided by this particular data set from the Kaggle competition (there were a few other data sets provided). Due to time constraints, I only focused on using Sales data for building my actual model. Through exploratory analysis, I learn that the data is stationary (constant mean and variance), so I use exponential smoothing as my main analytical tool. \n",
    "\n",
    "**Note:** Please note that I did this project while starting my MS in Analytics program at Georgia Tech in August 2019. I think it is representative of the work I can do without much formal instruction. I'm confident that my work and analytical capabilities will improve as I complete the MS program. "
   ]
  },
  {
   "cell_type": "markdown",
   "metadata": {},
   "source": [
    "## The Data\n",
    "\n",
    "- **Id**: an Id that represents a (Store, Date) duple within the test set\n",
    "- **DayOfWeek**: Day of the week, 1 being Monday and 7 being Sunday\n",
    "- **Date**: Date\n",
    "- **Store**: a unique Id for each store\n",
    "- **Sales**: the turnover for any given day (this is what you are predicting)\n",
    "- **Customers**: the number of customers on a given day\n",
    "- **Open**: an indicator for whether the store was open: 0 = closed, 1 = open\n",
    "- **StateHoliday**: indicates a state holiday. Normally all stores, with few exceptions, are closed on state holidays. Note that all schools are closed on public holidays and weekends. a = public holiday, b = Easter holiday, c = Christmas, 0 = None\n",
    "- **SchoolHoliday**: indicates if the (Store, Date) was affected by the closure of public schools\n",
    "- **Promo**: indicates whether a store is running a promo on that day"
   ]
  },
  {
   "cell_type": "code",
   "execution_count": 46,
   "metadata": {},
   "outputs": [
    {
     "name": "stdout",
     "output_type": "stream",
     "text": [
      "Number of rows: 1017209\n"
     ]
    },
    {
     "data": {
      "text/html": [
       "<div>\n",
       "<style scoped>\n",
       "    .dataframe tbody tr th:only-of-type {\n",
       "        vertical-align: middle;\n",
       "    }\n",
       "\n",
       "    .dataframe tbody tr th {\n",
       "        vertical-align: top;\n",
       "    }\n",
       "\n",
       "    .dataframe thead th {\n",
       "        text-align: right;\n",
       "    }\n",
       "</style>\n",
       "<table border=\"1\" class=\"dataframe\">\n",
       "  <thead>\n",
       "    <tr style=\"text-align: right;\">\n",
       "      <th></th>\n",
       "      <th>Store</th>\n",
       "      <th>DayOfWeek</th>\n",
       "      <th>Date</th>\n",
       "      <th>Sales</th>\n",
       "      <th>Customers</th>\n",
       "      <th>Open</th>\n",
       "      <th>Promo</th>\n",
       "      <th>StateHoliday</th>\n",
       "      <th>SchoolHoliday</th>\n",
       "    </tr>\n",
       "  </thead>\n",
       "  <tbody>\n",
       "    <tr>\n",
       "      <th>0</th>\n",
       "      <td>1</td>\n",
       "      <td>5</td>\n",
       "      <td>2015-07-31</td>\n",
       "      <td>5263</td>\n",
       "      <td>555</td>\n",
       "      <td>1</td>\n",
       "      <td>1</td>\n",
       "      <td>0</td>\n",
       "      <td>1</td>\n",
       "    </tr>\n",
       "    <tr>\n",
       "      <th>1</th>\n",
       "      <td>2</td>\n",
       "      <td>5</td>\n",
       "      <td>2015-07-31</td>\n",
       "      <td>6064</td>\n",
       "      <td>625</td>\n",
       "      <td>1</td>\n",
       "      <td>1</td>\n",
       "      <td>0</td>\n",
       "      <td>1</td>\n",
       "    </tr>\n",
       "    <tr>\n",
       "      <th>2</th>\n",
       "      <td>3</td>\n",
       "      <td>5</td>\n",
       "      <td>2015-07-31</td>\n",
       "      <td>8314</td>\n",
       "      <td>821</td>\n",
       "      <td>1</td>\n",
       "      <td>1</td>\n",
       "      <td>0</td>\n",
       "      <td>1</td>\n",
       "    </tr>\n",
       "    <tr>\n",
       "      <th>3</th>\n",
       "      <td>4</td>\n",
       "      <td>5</td>\n",
       "      <td>2015-07-31</td>\n",
       "      <td>13995</td>\n",
       "      <td>1498</td>\n",
       "      <td>1</td>\n",
       "      <td>1</td>\n",
       "      <td>0</td>\n",
       "      <td>1</td>\n",
       "    </tr>\n",
       "    <tr>\n",
       "      <th>4</th>\n",
       "      <td>5</td>\n",
       "      <td>5</td>\n",
       "      <td>2015-07-31</td>\n",
       "      <td>4822</td>\n",
       "      <td>559</td>\n",
       "      <td>1</td>\n",
       "      <td>1</td>\n",
       "      <td>0</td>\n",
       "      <td>1</td>\n",
       "    </tr>\n",
       "  </tbody>\n",
       "</table>\n",
       "</div>"
      ],
      "text/plain": [
       "   Store  DayOfWeek        Date  Sales  Customers  Open  Promo StateHoliday  \\\n",
       "0      1          5  2015-07-31   5263        555     1      1            0   \n",
       "1      2          5  2015-07-31   6064        625     1      1            0   \n",
       "2      3          5  2015-07-31   8314        821     1      1            0   \n",
       "3      4          5  2015-07-31  13995       1498     1      1            0   \n",
       "4      5          5  2015-07-31   4822        559     1      1            0   \n",
       "\n",
       "   SchoolHoliday  \n",
       "0              1  \n",
       "1              1  \n",
       "2              1  \n",
       "3              1  \n",
       "4              1  "
      ]
     },
     "execution_count": 46,
     "metadata": {},
     "output_type": "execute_result"
    }
   ],
   "source": [
    "import pandas as pd\n",
    "import numpy as np\n",
    "import matplotlib.pyplot as plt\n",
    "import scipy.stats as stats\n",
    "from sklearn import linear_model\n",
    "import plotly.plotly as py\n",
    "import warnings\n",
    "from pandas import Series\n",
    "from matplotlib import pyplot\n",
    "from datetime import datetime\n",
    "from statsmodels.tsa.api import ExponentialSmoothing\n",
    "import matplotlib.patches as mpatches\n",
    "warnings.filterwarnings(\"ignore\")\n",
    "\n",
    "\n",
    "\n",
    "#We upload a file of homes listed for sale on April 10, 2019. \n",
    "#To gather this data, I used Scrapy to scrape the Encuentra24 listings-for-sale website\n",
    "df = pd.read_csv('//Users/reynaldo/Documents/ROSSMANN DATA/train.csv')\n",
    "print('Number of rows:', len(df))\n",
    "df.head()"
   ]
  },
  {
   "cell_type": "markdown",
   "metadata": {},
   "source": [
    "We have a 1 million + row data set. I check for null values and see that we have no null values:"
   ]
  },
  {
   "cell_type": "code",
   "execution_count": 47,
   "metadata": {},
   "outputs": [
    {
     "name": "stdout",
     "output_type": "stream",
     "text": [
      "Store            0\n",
      "DayOfWeek        0\n",
      "Date             0\n",
      "Sales            0\n",
      "Customers        0\n",
      "Open             0\n",
      "Promo            0\n",
      "StateHoliday     0\n",
      "SchoolHoliday    0\n",
      "dtype: int64\n"
     ]
    }
   ],
   "source": [
    "print (df.isnull().sum())"
   ]
  },
  {
   "cell_type": "markdown",
   "metadata": {},
   "source": [
    "Now we check data types to see if we will have to do some casting:"
   ]
  },
  {
   "cell_type": "code",
   "execution_count": 48,
   "metadata": {},
   "outputs": [
    {
     "data": {
      "text/plain": [
       "Store             int64\n",
       "DayOfWeek         int64\n",
       "Date             object\n",
       "Sales             int64\n",
       "Customers         int64\n",
       "Open              int64\n",
       "Promo             int64\n",
       "StateHoliday     object\n",
       "SchoolHoliday     int64\n",
       "dtype: object"
      ]
     },
     "execution_count": 48,
     "metadata": {},
     "output_type": "execute_result"
    }
   ],
   "source": [
    "df.dtypes"
   ]
  },
  {
   "cell_type": "markdown",
   "metadata": {},
   "source": [
    "StateHoliday column has three different possible values: a = public holiday, b = Easter holiday, c = Christmas, 0 = None. We cast DayOfWeek as datetime:"
   ]
  },
  {
   "cell_type": "code",
   "execution_count": 49,
   "metadata": {},
   "outputs": [
    {
     "data": {
      "text/html": [
       "<div>\n",
       "<style scoped>\n",
       "    .dataframe tbody tr th:only-of-type {\n",
       "        vertical-align: middle;\n",
       "    }\n",
       "\n",
       "    .dataframe tbody tr th {\n",
       "        vertical-align: top;\n",
       "    }\n",
       "\n",
       "    .dataframe thead th {\n",
       "        text-align: right;\n",
       "    }\n",
       "</style>\n",
       "<table border=\"1\" class=\"dataframe\">\n",
       "  <thead>\n",
       "    <tr style=\"text-align: right;\">\n",
       "      <th></th>\n",
       "      <th>Store</th>\n",
       "      <th>DayOfWeek</th>\n",
       "      <th>Sales</th>\n",
       "      <th>Customers</th>\n",
       "      <th>Open</th>\n",
       "      <th>Promo</th>\n",
       "      <th>StateHoliday</th>\n",
       "      <th>SchoolHoliday</th>\n",
       "    </tr>\n",
       "    <tr>\n",
       "      <th>Date</th>\n",
       "      <th></th>\n",
       "      <th></th>\n",
       "      <th></th>\n",
       "      <th></th>\n",
       "      <th></th>\n",
       "      <th></th>\n",
       "      <th></th>\n",
       "      <th></th>\n",
       "    </tr>\n",
       "  </thead>\n",
       "  <tbody>\n",
       "    <tr>\n",
       "      <th>2015-07-31</th>\n",
       "      <td>1</td>\n",
       "      <td>5</td>\n",
       "      <td>5263</td>\n",
       "      <td>555</td>\n",
       "      <td>1</td>\n",
       "      <td>1</td>\n",
       "      <td>0</td>\n",
       "      <td>1</td>\n",
       "    </tr>\n",
       "    <tr>\n",
       "      <th>2015-07-31</th>\n",
       "      <td>2</td>\n",
       "      <td>5</td>\n",
       "      <td>6064</td>\n",
       "      <td>625</td>\n",
       "      <td>1</td>\n",
       "      <td>1</td>\n",
       "      <td>0</td>\n",
       "      <td>1</td>\n",
       "    </tr>\n",
       "    <tr>\n",
       "      <th>2015-07-31</th>\n",
       "      <td>3</td>\n",
       "      <td>5</td>\n",
       "      <td>8314</td>\n",
       "      <td>821</td>\n",
       "      <td>1</td>\n",
       "      <td>1</td>\n",
       "      <td>0</td>\n",
       "      <td>1</td>\n",
       "    </tr>\n",
       "    <tr>\n",
       "      <th>2015-07-31</th>\n",
       "      <td>4</td>\n",
       "      <td>5</td>\n",
       "      <td>13995</td>\n",
       "      <td>1498</td>\n",
       "      <td>1</td>\n",
       "      <td>1</td>\n",
       "      <td>0</td>\n",
       "      <td>1</td>\n",
       "    </tr>\n",
       "    <tr>\n",
       "      <th>2015-07-31</th>\n",
       "      <td>5</td>\n",
       "      <td>5</td>\n",
       "      <td>4822</td>\n",
       "      <td>559</td>\n",
       "      <td>1</td>\n",
       "      <td>1</td>\n",
       "      <td>0</td>\n",
       "      <td>1</td>\n",
       "    </tr>\n",
       "  </tbody>\n",
       "</table>\n",
       "</div>"
      ],
      "text/plain": [
       "            Store  DayOfWeek  Sales  Customers  Open  Promo StateHoliday  \\\n",
       "Date                                                                       \n",
       "2015-07-31      1          5   5263        555     1      1            0   \n",
       "2015-07-31      2          5   6064        625     1      1            0   \n",
       "2015-07-31      3          5   8314        821     1      1            0   \n",
       "2015-07-31      4          5  13995       1498     1      1            0   \n",
       "2015-07-31      5          5   4822        559     1      1            0   \n",
       "\n",
       "            SchoolHoliday  \n",
       "Date                       \n",
       "2015-07-31              1  \n",
       "2015-07-31              1  \n",
       "2015-07-31              1  \n",
       "2015-07-31              1  \n",
       "2015-07-31              1  "
      ]
     },
     "execution_count": 49,
     "metadata": {},
     "output_type": "execute_result"
    }
   ],
   "source": [
    "df.Date = pd.to_datetime(df['Date'], format='%Y-%m-%d')\n",
    "df.set_index(['Date'], drop = True, inplace = True)\n",
    "df.head()"
   ]
  },
  {
   "cell_type": "markdown",
   "metadata": {},
   "source": [
    "## Exploratory Data Analysis"
   ]
  },
  {
   "cell_type": "markdown",
   "metadata": {},
   "source": [
    "I create dummy variables out of StateHoliday column and rename them to make it easier for the exploratory analysis:"
   ]
  },
  {
   "cell_type": "code",
   "execution_count": 50,
   "metadata": {},
   "outputs": [],
   "source": [
    "df = pd.get_dummies(df, drop_first= True)\n",
    "df.rename(columns={'StateHoliday_0': 'NoStateHoliday', \"StateHoliday_a\": \"PublicHoliday\", \"StateHoliday_b\": \"EasterHoliday\", 'StateHoliday_c': 'Christmas'}, inplace = True)"
   ]
  },
  {
   "cell_type": "code",
   "execution_count": 51,
   "metadata": {},
   "outputs": [
    {
     "name": "stdout",
     "output_type": "stream",
     "text": [
      "Number of different stores in the data set: 1115\n"
     ]
    }
   ],
   "source": [
    "print('Number of different stores in the data set:', len(df.groupby('Store')))"
   ]
  },
  {
   "cell_type": "markdown",
   "metadata": {},
   "source": [
    "We have a bit over two years worth of data, from January 2013 to July 2015:"
   ]
  },
  {
   "cell_type": "code",
   "execution_count": 52,
   "metadata": {},
   "outputs": [
    {
     "name": "stdout",
     "output_type": "stream",
     "text": [
      "The oldest date on the data set is: 2013-01-01 00:00:00 and the earliest date is 2015-07-31 00:00:00 which corresponds to 941 days 00:00:00\n"
     ]
    }
   ],
   "source": [
    "print('The oldest date on the data set is:', df.index.min(), 'and the earliest date is', df.index.max(), 'which corresponds to', df.index.max()-df.index.min())"
   ]
  },
  {
   "cell_type": "markdown",
   "metadata": {},
   "source": [
    "Now plot the average daily sales among all stores:"
   ]
  },
  {
   "cell_type": "code",
   "execution_count": 53,
   "metadata": {},
   "outputs": [
    {
     "data": {
      "text/plain": [
       "Text(0, 0.5, 'Average Daily Sales Among All Stores US$')"
      ]
     },
     "execution_count": 53,
     "metadata": {},
     "output_type": "execute_result"
    },
    {
     "data": {
      "image/png": "[encoded data removed]",
      "text/plain": [
       "<Figure size 432x288 with 1 Axes>"
      ]
     },
     "metadata": {
      "needs_background": "light"
     },
     "output_type": "display_data"
    }
   ],
   "source": [
    "total_sales = Series(df.groupby('Date').Sales.mean())\n",
    "total_sales.plot(style = 'k.', title = 'Average Daily Sales Per Store')\n",
    "plt.ylabel('Average Daily Sales Among All Stores US$')"
   ]
  },
  {
   "cell_type": "markdown",
   "metadata": {},
   "source": [
    "Our time series plot suggests that the data for daily store average sales is stationary (i.e. has roughly constant mean and variance), which suggests that we could do exponential smoothing on this data. "
   ]
  },
  {
   "cell_type": "markdown",
   "metadata": {},
   "source": [
    "Below, we see that average stores sales among all stores has a fairly wide distribution, with the standard deviation being about half of the mean value:"
   ]
  },
  {
   "cell_type": "code",
   "execution_count": 54,
   "metadata": {},
   "outputs": [
    {
     "name": "stdout",
     "output_type": "stream",
     "text": [
      "Average daily sales of all stores is: 5783.0\n",
      "Standard deviation of all stores is: 2887.0\n"
     ]
    }
   ],
   "source": [
    "print('Average daily sales of all stores is:', round(np.mean(total_sales)))\n",
    "print('Standard deviation of all stores is:', round(np.std(total_sales)))"
   ]
  },
  {
   "cell_type": "markdown",
   "metadata": {},
   "source": [
    "Average sales per day are largest on Monday, and decrease until reaching the very lowest average sales on Sunday:"
   ]
  },
  {
   "cell_type": "code",
   "execution_count": 55,
   "metadata": {},
   "outputs": [
    {
     "data": {
      "text/html": [
       "<div>\n",
       "<style scoped>\n",
       "    .dataframe tbody tr th:only-of-type {\n",
       "        vertical-align: middle;\n",
       "    }\n",
       "\n",
       "    .dataframe tbody tr th {\n",
       "        vertical-align: top;\n",
       "    }\n",
       "\n",
       "    .dataframe thead th {\n",
       "        text-align: right;\n",
       "    }\n",
       "</style>\n",
       "<table border=\"1\" class=\"dataframe\">\n",
       "  <thead>\n",
       "    <tr style=\"text-align: right;\">\n",
       "      <th></th>\n",
       "      <th>AverageSales</th>\n",
       "    </tr>\n",
       "  </thead>\n",
       "  <tbody>\n",
       "    <tr>\n",
       "      <th>Mon</th>\n",
       "      <td>7809.044510</td>\n",
       "    </tr>\n",
       "    <tr>\n",
       "      <th>Tue</th>\n",
       "      <td>7005.244467</td>\n",
       "    </tr>\n",
       "    <tr>\n",
       "      <th>Wed</th>\n",
       "      <td>6555.884138</td>\n",
       "    </tr>\n",
       "    <tr>\n",
       "      <th>Thurs</th>\n",
       "      <td>6247.575913</td>\n",
       "    </tr>\n",
       "    <tr>\n",
       "      <th>Fri</th>\n",
       "      <td>6723.274305</td>\n",
       "    </tr>\n",
       "    <tr>\n",
       "      <th>Sat</th>\n",
       "      <td>5847.562599</td>\n",
       "    </tr>\n",
       "    <tr>\n",
       "      <th>Sun</th>\n",
       "      <td>204.183189</td>\n",
       "    </tr>\n",
       "  </tbody>\n",
       "</table>\n",
       "</div>"
      ],
      "text/plain": [
       "       AverageSales\n",
       "Mon     7809.044510\n",
       "Tue     7005.244467\n",
       "Wed     6555.884138\n",
       "Thurs   6247.575913\n",
       "Fri     6723.274305\n",
       "Sat     5847.562599\n",
       "Sun      204.183189"
      ]
     },
     "execution_count": 55,
     "metadata": {},
     "output_type": "execute_result"
    }
   ],
   "source": [
    "pd.DataFrame(df.groupby('DayOfWeek').Sales.mean()).set_index(pd.Index(['Mon', 'Tue', 'Wed', 'Thurs', 'Fri', 'Sat', 'Sun'])).rename(columns={\"Sales\": \"AverageSales\"})"
   ]
  },
  {
   "cell_type": "markdown",
   "metadata": {},
   "source": [
    "There are a bunch of dates with 0 sales, so I calculate the average number of days with zero sales for each store:"
   ]
  },
  {
   "cell_type": "code",
   "execution_count": 56,
   "metadata": {},
   "outputs": [
    {
     "name": "stdout",
     "output_type": "stream",
     "text": [
      "Average number of days without sales for all stores between January 2013 to July 2015: 156.44\n",
      "Standard deviation of mean number days without sales for all stores between January 2013 to July 2015: 20.17\n"
     ]
    }
   ],
   "source": [
    "print('Average number of days without sales for all stores between January 2013 to July 2015:', round(df[df.Sales ==0].groupby('Store').count().DayOfWeek.mean(),2))\n",
    "print('Standard deviation of mean number days without sales for all stores between January 2013 to July 2015:', round(np.std(df[df.Sales ==0].groupby('Store').count().DayOfWeek),2))"
   ]
  },
  {
   "cell_type": "markdown",
   "metadata": {},
   "source": [
    "Now I check the distribution of days without sales (store was closed), average daily sales per store, and average number of daily customers per store:"
   ]
  },
  {
   "cell_type": "code",
   "execution_count": 57,
   "metadata": {},
   "outputs": [
    {
     "data": {
      "text/plain": [
       "Text(0.5, 0, 'Average Daily Customers')"
      ]
     },
     "execution_count": 57,
     "metadata": {},
     "output_type": "execute_result"
    },
    {
     "data": {
      "image/png": "[encoded data removed]",
      "text/plain": [
       "<Figure size 1440x360 with 3 Axes>"
      ]
     },
     "metadata": {
      "needs_background": "light"
     },
     "output_type": "display_data"
    }
   ],
   "source": [
    "fig = plt.figure(figsize=(20,5))\n",
    "fig.subplots_adjust(hspace=0.5)\n",
    "ax1 = fig.add_subplot(131)\n",
    "ax1.hist(df[df.Sales ==0].groupby('Store').count().DayOfWeek, bins=30)\n",
    "ax1.set_title('Histogram Days Without Sales in Each Store \\n Jan 2013-July 2015')\n",
    "ax1.set_ylabel('Number of Stores')\n",
    "ax1.set_xlabel('Number of Days Without Sales')\n",
    "\n",
    "ax2 = fig.add_subplot(132)\n",
    "ax2.hist(df[df.Sales!=0].groupby('Store').mean().Sales, bins=30)\n",
    "ax2.set_title('Histogram of Average Daily Sales in Each Store \\n Jan 2013-July 2015')\n",
    "ax2.set_ylabel('Number of Stores')\n",
    "ax2.set_xlabel('Average Daily Sales')\n",
    "\n",
    "ax3 = fig.add_subplot(133)\n",
    "ax3.hist(df[df.Sales!=0].groupby('Store').mean().Customers, bins=30)\n",
    "ax3.set_title('Histogram of Average Daily Customers in Each Store \\n Jan 2013-July 2015')\n",
    "ax3.set_ylabel('Number of Stores')\n",
    "ax3.set_xlabel('Average Daily Customers')"
   ]
  },
  {
   "cell_type": "markdown",
   "metadata": {},
   "source": [
    "Evidently, number of days without sales (i.e. store is closed) has very little variation among all stores, with most stores closing for around 130-180 days in the whole period. Average number of daily customers has a similar, right skewed distribution as average daily sales. As seen below these two variables are positively correlated. It is interesting that there seems to be a floor on the minimum sales amount corresponding to each number of customers, which seems to correspond to the fact that all customers make some minimum purchase amount (perhaps corresponding to the lowest cost item in the store):"
   ]
  },
  {
   "cell_type": "code",
   "execution_count": 58,
   "metadata": {},
   "outputs": [
    {
     "data": {
      "image/png": "[encoded data removed]",
      "text/plain": [
       "<Figure size 432x288 with 1 Axes>"
      ]
     },
     "metadata": {
      "needs_background": "light"
     },
     "output_type": "display_data"
    }
   ],
   "source": [
    "plt.scatter(df.Customers, df.Sales)\n",
    "plt.title('Scatter plot of Customers vs Sales')\n",
    "plt.xlabel('Number of Customers')\n",
    "plt.ylabel('Sales US$')\n",
    "plt.show()"
   ]
  },
  {
   "cell_type": "markdown",
   "metadata": {},
   "source": [
    "We see that there are a large number of school holidays that affected at least one store (478 days out of roughly 900 days in the data set). This is unlike StateHolidays, which happen much less frequent than school holidays:"
   ]
  },
  {
   "cell_type": "code",
   "execution_count": 59,
   "metadata": {},
   "outputs": [
    {
     "name": "stdout",
     "output_type": "stream",
     "text": [
      "Number of school holidays that affected at least one store: 478\n"
     ]
    }
   ],
   "source": [
    "print('Number of school holidays that affected at least one store:', len(df[df.groupby('Date').SchoolHoliday.sum()!=0].groupby('Date').SchoolHoliday.sum()))"
   ]
  },
  {
   "cell_type": "markdown",
   "metadata": {},
   "source": [
    "Now I check the number of stores that closed in each holiday season:"
   ]
  },
  {
   "cell_type": "code",
   "execution_count": 60,
   "metadata": {
    "scrolled": true
   },
   "outputs": [
    {
     "data": {
      "text/html": [
       "<div>\n",
       "<style scoped>\n",
       "    .dataframe tbody tr th:only-of-type {\n",
       "        vertical-align: middle;\n",
       "    }\n",
       "\n",
       "    .dataframe tbody tr th {\n",
       "        vertical-align: top;\n",
       "    }\n",
       "\n",
       "    .dataframe thead th {\n",
       "        text-align: right;\n",
       "    }\n",
       "</style>\n",
       "<table border=\"1\" class=\"dataframe\">\n",
       "  <thead>\n",
       "    <tr style=\"text-align: right;\">\n",
       "      <th></th>\n",
       "      <th>PublicHoliday</th>\n",
       "      <th>EasterHoliday</th>\n",
       "      <th>Christmas</th>\n",
       "    </tr>\n",
       "    <tr>\n",
       "      <th>Date</th>\n",
       "      <th></th>\n",
       "      <th></th>\n",
       "      <th></th>\n",
       "    </tr>\n",
       "  </thead>\n",
       "  <tbody>\n",
       "    <tr>\n",
       "      <th>2013-01-01</th>\n",
       "      <td>1114.0</td>\n",
       "      <td>0.0</td>\n",
       "      <td>0.0</td>\n",
       "    </tr>\n",
       "    <tr>\n",
       "      <th>2013-01-06</th>\n",
       "      <td>309.0</td>\n",
       "      <td>0.0</td>\n",
       "      <td>0.0</td>\n",
       "    </tr>\n",
       "    <tr>\n",
       "      <th>2013-03-29</th>\n",
       "      <td>0.0</td>\n",
       "      <td>1115.0</td>\n",
       "      <td>0.0</td>\n",
       "    </tr>\n",
       "    <tr>\n",
       "      <th>2013-04-01</th>\n",
       "      <td>0.0</td>\n",
       "      <td>1115.0</td>\n",
       "      <td>0.0</td>\n",
       "    </tr>\n",
       "    <tr>\n",
       "      <th>2013-05-01</th>\n",
       "      <td>1115.0</td>\n",
       "      <td>0.0</td>\n",
       "      <td>0.0</td>\n",
       "    </tr>\n",
       "    <tr>\n",
       "      <th>2013-05-09</th>\n",
       "      <td>1115.0</td>\n",
       "      <td>0.0</td>\n",
       "      <td>0.0</td>\n",
       "    </tr>\n",
       "    <tr>\n",
       "      <th>2013-05-20</th>\n",
       "      <td>1115.0</td>\n",
       "      <td>0.0</td>\n",
       "      <td>0.0</td>\n",
       "    </tr>\n",
       "    <tr>\n",
       "      <th>2013-05-30</th>\n",
       "      <td>766.0</td>\n",
       "      <td>0.0</td>\n",
       "      <td>0.0</td>\n",
       "    </tr>\n",
       "    <tr>\n",
       "      <th>2013-08-15</th>\n",
       "      <td>180.0</td>\n",
       "      <td>0.0</td>\n",
       "      <td>0.0</td>\n",
       "    </tr>\n",
       "    <tr>\n",
       "      <th>2013-10-03</th>\n",
       "      <td>1115.0</td>\n",
       "      <td>0.0</td>\n",
       "      <td>0.0</td>\n",
       "    </tr>\n",
       "    <tr>\n",
       "      <th>2013-10-31</th>\n",
       "      <td>167.0</td>\n",
       "      <td>0.0</td>\n",
       "      <td>0.0</td>\n",
       "    </tr>\n",
       "    <tr>\n",
       "      <th>2013-11-01</th>\n",
       "      <td>579.0</td>\n",
       "      <td>0.0</td>\n",
       "      <td>0.0</td>\n",
       "    </tr>\n",
       "    <tr>\n",
       "      <th>2013-11-20</th>\n",
       "      <td>75.0</td>\n",
       "      <td>0.0</td>\n",
       "      <td>0.0</td>\n",
       "    </tr>\n",
       "    <tr>\n",
       "      <th>2013-12-25</th>\n",
       "      <td>0.0</td>\n",
       "      <td>0.0</td>\n",
       "      <td>1115.0</td>\n",
       "    </tr>\n",
       "    <tr>\n",
       "      <th>2013-12-26</th>\n",
       "      <td>0.0</td>\n",
       "      <td>0.0</td>\n",
       "      <td>1115.0</td>\n",
       "    </tr>\n",
       "    <tr>\n",
       "      <th>2014-01-01</th>\n",
       "      <td>1115.0</td>\n",
       "      <td>0.0</td>\n",
       "      <td>0.0</td>\n",
       "    </tr>\n",
       "    <tr>\n",
       "      <th>2014-01-06</th>\n",
       "      <td>309.0</td>\n",
       "      <td>0.0</td>\n",
       "      <td>0.0</td>\n",
       "    </tr>\n",
       "    <tr>\n",
       "      <th>2014-04-18</th>\n",
       "      <td>0.0</td>\n",
       "      <td>1115.0</td>\n",
       "      <td>0.0</td>\n",
       "    </tr>\n",
       "    <tr>\n",
       "      <th>2014-04-21</th>\n",
       "      <td>0.0</td>\n",
       "      <td>1115.0</td>\n",
       "      <td>0.0</td>\n",
       "    </tr>\n",
       "    <tr>\n",
       "      <th>2014-05-01</th>\n",
       "      <td>1115.0</td>\n",
       "      <td>0.0</td>\n",
       "      <td>0.0</td>\n",
       "    </tr>\n",
       "    <tr>\n",
       "      <th>2014-05-29</th>\n",
       "      <td>1115.0</td>\n",
       "      <td>0.0</td>\n",
       "      <td>0.0</td>\n",
       "    </tr>\n",
       "    <tr>\n",
       "      <th>2014-06-09</th>\n",
       "      <td>1115.0</td>\n",
       "      <td>0.0</td>\n",
       "      <td>0.0</td>\n",
       "    </tr>\n",
       "    <tr>\n",
       "      <th>2014-06-19</th>\n",
       "      <td>766.0</td>\n",
       "      <td>0.0</td>\n",
       "      <td>0.0</td>\n",
       "    </tr>\n",
       "    <tr>\n",
       "      <th>2014-10-03</th>\n",
       "      <td>935.0</td>\n",
       "      <td>0.0</td>\n",
       "      <td>0.0</td>\n",
       "    </tr>\n",
       "    <tr>\n",
       "      <th>2014-10-31</th>\n",
       "      <td>167.0</td>\n",
       "      <td>0.0</td>\n",
       "      <td>0.0</td>\n",
       "    </tr>\n",
       "    <tr>\n",
       "      <th>2014-11-01</th>\n",
       "      <td>399.0</td>\n",
       "      <td>0.0</td>\n",
       "      <td>0.0</td>\n",
       "    </tr>\n",
       "    <tr>\n",
       "      <th>2014-11-19</th>\n",
       "      <td>75.0</td>\n",
       "      <td>0.0</td>\n",
       "      <td>0.0</td>\n",
       "    </tr>\n",
       "    <tr>\n",
       "      <th>2014-12-25</th>\n",
       "      <td>0.0</td>\n",
       "      <td>0.0</td>\n",
       "      <td>935.0</td>\n",
       "    </tr>\n",
       "    <tr>\n",
       "      <th>2014-12-26</th>\n",
       "      <td>0.0</td>\n",
       "      <td>0.0</td>\n",
       "      <td>935.0</td>\n",
       "    </tr>\n",
       "    <tr>\n",
       "      <th>2015-01-01</th>\n",
       "      <td>1079.0</td>\n",
       "      <td>0.0</td>\n",
       "      <td>0.0</td>\n",
       "    </tr>\n",
       "    <tr>\n",
       "      <th>2015-01-06</th>\n",
       "      <td>309.0</td>\n",
       "      <td>0.0</td>\n",
       "      <td>0.0</td>\n",
       "    </tr>\n",
       "    <tr>\n",
       "      <th>2015-04-03</th>\n",
       "      <td>0.0</td>\n",
       "      <td>1115.0</td>\n",
       "      <td>0.0</td>\n",
       "    </tr>\n",
       "    <tr>\n",
       "      <th>2015-04-06</th>\n",
       "      <td>0.0</td>\n",
       "      <td>1115.0</td>\n",
       "      <td>0.0</td>\n",
       "    </tr>\n",
       "    <tr>\n",
       "      <th>2015-05-01</th>\n",
       "      <td>1115.0</td>\n",
       "      <td>0.0</td>\n",
       "      <td>0.0</td>\n",
       "    </tr>\n",
       "    <tr>\n",
       "      <th>2015-05-14</th>\n",
       "      <td>1115.0</td>\n",
       "      <td>0.0</td>\n",
       "      <td>0.0</td>\n",
       "    </tr>\n",
       "    <tr>\n",
       "      <th>2015-05-25</th>\n",
       "      <td>1115.0</td>\n",
       "      <td>0.0</td>\n",
       "      <td>0.0</td>\n",
       "    </tr>\n",
       "    <tr>\n",
       "      <th>2015-06-04</th>\n",
       "      <td>766.0</td>\n",
       "      <td>0.0</td>\n",
       "      <td>0.0</td>\n",
       "    </tr>\n",
       "  </tbody>\n",
       "</table>\n",
       "</div>"
      ],
      "text/plain": [
       "            PublicHoliday  EasterHoliday  Christmas\n",
       "Date                                               \n",
       "2013-01-01         1114.0            0.0        0.0\n",
       "2013-01-06          309.0            0.0        0.0\n",
       "2013-03-29            0.0         1115.0        0.0\n",
       "2013-04-01            0.0         1115.0        0.0\n",
       "2013-05-01         1115.0            0.0        0.0\n",
       "2013-05-09         1115.0            0.0        0.0\n",
       "2013-05-20         1115.0            0.0        0.0\n",
       "2013-05-30          766.0            0.0        0.0\n",
       "2013-08-15          180.0            0.0        0.0\n",
       "2013-10-03         1115.0            0.0        0.0\n",
       "2013-10-31          167.0            0.0        0.0\n",
       "2013-11-01          579.0            0.0        0.0\n",
       "2013-11-20           75.0            0.0        0.0\n",
       "2013-12-25            0.0            0.0     1115.0\n",
       "2013-12-26            0.0            0.0     1115.0\n",
       "2014-01-01         1115.0            0.0        0.0\n",
       "2014-01-06          309.0            0.0        0.0\n",
       "2014-04-18            0.0         1115.0        0.0\n",
       "2014-04-21            0.0         1115.0        0.0\n",
       "2014-05-01         1115.0            0.0        0.0\n",
       "2014-05-29         1115.0            0.0        0.0\n",
       "2014-06-09         1115.0            0.0        0.0\n",
       "2014-06-19          766.0            0.0        0.0\n",
       "2014-10-03          935.0            0.0        0.0\n",
       "2014-10-31          167.0            0.0        0.0\n",
       "2014-11-01          399.0            0.0        0.0\n",
       "2014-11-19           75.0            0.0        0.0\n",
       "2014-12-25            0.0            0.0      935.0\n",
       "2014-12-26            0.0            0.0      935.0\n",
       "2015-01-01         1079.0            0.0        0.0\n",
       "2015-01-06          309.0            0.0        0.0\n",
       "2015-04-03            0.0         1115.0        0.0\n",
       "2015-04-06            0.0         1115.0        0.0\n",
       "2015-05-01         1115.0            0.0        0.0\n",
       "2015-05-14         1115.0            0.0        0.0\n",
       "2015-05-25         1115.0            0.0        0.0\n",
       "2015-06-04          766.0            0.0        0.0"
      ]
     },
     "execution_count": 60,
     "metadata": {},
     "output_type": "execute_result"
    }
   ],
   "source": [
    "d = {'PublicHoliday': df[df.groupby('Date').PublicHoliday.sum()!=0].groupby('Date').PublicHoliday.sum(), \n",
    "     'EasterHoliday': df[df.groupby('Date').EasterHoliday.sum()!=0].groupby('Date').EasterHoliday.sum(),\n",
    "    'Christmas': df[df.groupby('Date').Christmas.sum()!=0].groupby('Date').Christmas.sum()}\n",
    "\n",
    "closed_stores = pd.DataFrame(data=d)\n",
    "closed_stores.fillna(0)"
   ]
  },
  {
   "cell_type": "markdown",
   "metadata": {},
   "source": [
    "In about half of PublicHolidays all stores are closed. There seems to be a trend for fewer stores closing on Public Holidays for recent years. If a store closes for the 25th, then it seems that it also closes on the 26th. For EasterHoliday, all stores closed on the same days (during March or April). \n",
    "\n",
    "For the testing set period (August- September 2015), we see that there are usually no State holidays. Only 2013 had a Public Holiday in August 15 in which 180 stores closed, but this holiday did not occur ein 2014. This suggests that it is not imperative to predict stores closures for our testing time period, so I will choose to not predict State holidays to keep my analysis simple. \n",
    "\n",
    "It is also interesting to note that in the first PublicHoliday, there is one store that did not close. I check whether there is missing data for stores:"
   ]
  },
  {
   "cell_type": "code",
   "execution_count": 61,
   "metadata": {},
   "outputs": [
    {
     "name": "stdout",
     "output_type": "stream",
     "text": [
      "Average number of days we have data for each store: 911\n",
      "Number of stores with missing values: 182\n",
      "Average number of missing days for stores with missing data: 187\n"
     ]
    }
   ],
   "source": [
    "from statistics import mean \n",
    "\n",
    "open_days = [0] *len(df.groupby('Store'))\n",
    "missing_days = 0\n",
    "sum_missing = 0\n",
    "for i in range(len(df.groupby('Store'))):\n",
    "    open_days[i] = len(df[df.Store == i].Sales)\n",
    "    if len(df[df.Store == i].Sales)!=942:\n",
    "        sum_missing += (942-len(df[df.Store == i].Sales))\n",
    "        missing_days +=1\n",
    "\n",
    "print('Average number of days we have data for each store:', round(mean(open_days)))\n",
    "print('Number of stores with missing values:', missing_days)\n",
    "print('Average number of missing days for stores with missing data:', round(sum_missing/missing_days))"
   ]
  },
  {
   "cell_type": "markdown",
   "metadata": {},
   "source": [
    "Indeed, there are 182 stores with missing sales data (each missing an average of 187 data points). On average, each store has 911 sales data points out of 942 total days in the training set. \n",
    "\n",
    "Below we can see that average store sales (for those that remain open) is higher during holidays, specially state holidays, which makes me wonder why a store would close during holiday seasons:"
   ]
  },
  {
   "cell_type": "code",
   "execution_count": 62,
   "metadata": {},
   "outputs": [
    {
     "data": {
      "image/png": "[encoded data removed]",
      "text/plain": [
       "<Figure size 432x288 with 1 Axes>"
      ]
     },
     "metadata": {
      "needs_background": "light"
     },
     "output_type": "display_data"
    }
   ],
   "source": [
    "y = [df[(df.SchoolHoliday ==0) & (df.NoStateHoliday ==1)].Sales.mean(), df[(df.SchoolHoliday==1)].Sales.mean(), df[(df.PublicHoliday!=0) & (df.Sales !=0)].Sales.mean(), df[(df.EasterHoliday!=0) & (df.Sales !=0)].Sales.mean(), df[(df.Christmas !=0) & (df.Sales !=0)].Sales.mean()]\n",
    "N = len(y)\n",
    "x = ['No School \\n or State Holiday', 'School Holiday', 'Public Holiday', 'Easter Holiday', 'Christmas']\n",
    "width = 1/1.5\n",
    "plt.xticks(range(len(x)), x, rotation = 25)\n",
    "plt.title('Average Sales')\n",
    "plt.bar(x, y, width, color=['r', 'b', 'g', 'g', 'g'])\n",
    "green_patch = mpatches.Patch(color='green', label='State Holiday')\n",
    "blue_patch = mpatches.Patch(color='blue', label='School Holiday')\n",
    "red_patch = mpatches.Patch(color='red', label='No Holiday')\n",
    "plt.legend(handles=[green_patch, blue_patch, red_patch])\n",
    "plt.show()"
   ]
  },
  {
   "cell_type": "markdown",
   "metadata": {},
   "source": [
    "## Fill in Missing Values"
   ]
  },
  {
   "cell_type": "markdown",
   "metadata": {},
   "source": [
    "As noted above, there are 182 stores (out of 1115) with missing sales data, each with an average of 187 missing days. We have 182*187 = 34,034 missing data points, which is about 3% of all our data, so we can do imputing without issues. Given that State Holidays don't usually happen in the test set time period (August-September), and due to time constraints at the time I made this project, I will only use Sales column data to create my model. \n",
    "\n",
    "First I pivot my table to have Store number as column and Sales as values: "
   ]
  },
  {
   "cell_type": "code",
   "execution_count": 63,
   "metadata": {},
   "outputs": [],
   "source": [
    "df1 = df.pivot(columns='Store', values=['Sales'])\n",
    "df1.columns = np.arange(1,1116)"
   ]
  },
  {
   "cell_type": "markdown",
   "metadata": {},
   "source": [
    "I will fill in missing values with each store's average sales value for the whole training set period. I acknowledge that there has to be a better way to fill in missing values, such as perhaps doing exponential smoothing to fill in the missing values themselves, or perhaps adding random noise to the imputed values. Because of time restrictions, I will stick with this simpler method. "
   ]
  },
  {
   "cell_type": "code",
   "execution_count": 64,
   "metadata": {},
   "outputs": [],
   "source": [
    "df1.fillna(df1.mean(), inplace = True)"
   ]
  },
  {
   "cell_type": "markdown",
   "metadata": {},
   "source": [
    "This is what the final data frame looks like: "
   ]
  },
  {
   "cell_type": "code",
   "execution_count": 65,
   "metadata": {},
   "outputs": [
    {
     "data": {
      "text/html": [
       "<div>\n",
       "<style scoped>\n",
       "    .dataframe tbody tr th:only-of-type {\n",
       "        vertical-align: middle;\n",
       "    }\n",
       "\n",
       "    .dataframe tbody tr th {\n",
       "        vertical-align: top;\n",
       "    }\n",
       "\n",
       "    .dataframe thead th {\n",
       "        text-align: right;\n",
       "    }\n",
       "</style>\n",
       "<table border=\"1\" class=\"dataframe\">\n",
       "  <thead>\n",
       "    <tr style=\"text-align: right;\">\n",
       "      <th></th>\n",
       "      <th>1</th>\n",
       "      <th>2</th>\n",
       "      <th>3</th>\n",
       "      <th>4</th>\n",
       "      <th>5</th>\n",
       "      <th>6</th>\n",
       "      <th>7</th>\n",
       "      <th>8</th>\n",
       "      <th>9</th>\n",
       "      <th>10</th>\n",
       "      <th>...</th>\n",
       "      <th>1106</th>\n",
       "      <th>1107</th>\n",
       "      <th>1108</th>\n",
       "      <th>1109</th>\n",
       "      <th>1110</th>\n",
       "      <th>1111</th>\n",
       "      <th>1112</th>\n",
       "      <th>1113</th>\n",
       "      <th>1114</th>\n",
       "      <th>1115</th>\n",
       "    </tr>\n",
       "    <tr>\n",
       "      <th>Date</th>\n",
       "      <th></th>\n",
       "      <th></th>\n",
       "      <th></th>\n",
       "      <th></th>\n",
       "      <th></th>\n",
       "      <th></th>\n",
       "      <th></th>\n",
       "      <th></th>\n",
       "      <th></th>\n",
       "      <th></th>\n",
       "      <th></th>\n",
       "      <th></th>\n",
       "      <th></th>\n",
       "      <th></th>\n",
       "      <th></th>\n",
       "      <th></th>\n",
       "      <th></th>\n",
       "      <th></th>\n",
       "      <th></th>\n",
       "      <th></th>\n",
       "      <th></th>\n",
       "    </tr>\n",
       "  </thead>\n",
       "  <tbody>\n",
       "    <tr>\n",
       "      <th>2013-01-01</th>\n",
       "      <td>0.0</td>\n",
       "      <td>0.0</td>\n",
       "      <td>0.0</td>\n",
       "      <td>0.0</td>\n",
       "      <td>0.0</td>\n",
       "      <td>0.0</td>\n",
       "      <td>0.0</td>\n",
       "      <td>0.0</td>\n",
       "      <td>0.0</td>\n",
       "      <td>0.0</td>\n",
       "      <td>...</td>\n",
       "      <td>0.0</td>\n",
       "      <td>0.0</td>\n",
       "      <td>0.0</td>\n",
       "      <td>0.0</td>\n",
       "      <td>0.0</td>\n",
       "      <td>0.0</td>\n",
       "      <td>0.0</td>\n",
       "      <td>0.0</td>\n",
       "      <td>0.0</td>\n",
       "      <td>0.0</td>\n",
       "    </tr>\n",
       "    <tr>\n",
       "      <th>2013-01-02</th>\n",
       "      <td>5530.0</td>\n",
       "      <td>4422.0</td>\n",
       "      <td>6823.0</td>\n",
       "      <td>9941.0</td>\n",
       "      <td>4253.0</td>\n",
       "      <td>6089.0</td>\n",
       "      <td>8244.0</td>\n",
       "      <td>5419.0</td>\n",
       "      <td>4903.0</td>\n",
       "      <td>4812.0</td>\n",
       "      <td>...</td>\n",
       "      <td>5099.0</td>\n",
       "      <td>3955.0</td>\n",
       "      <td>6220.0</td>\n",
       "      <td>4576.0</td>\n",
       "      <td>4126.0</td>\n",
       "      <td>5097.0</td>\n",
       "      <td>10797.0</td>\n",
       "      <td>6218.0</td>\n",
       "      <td>20642.0</td>\n",
       "      <td>3697.0</td>\n",
       "    </tr>\n",
       "    <tr>\n",
       "      <th>2013-01-03</th>\n",
       "      <td>4327.0</td>\n",
       "      <td>4159.0</td>\n",
       "      <td>5902.0</td>\n",
       "      <td>8247.0</td>\n",
       "      <td>3465.0</td>\n",
       "      <td>5398.0</td>\n",
       "      <td>7231.0</td>\n",
       "      <td>4842.0</td>\n",
       "      <td>4602.0</td>\n",
       "      <td>4675.0</td>\n",
       "      <td>...</td>\n",
       "      <td>4330.0</td>\n",
       "      <td>3151.0</td>\n",
       "      <td>4779.0</td>\n",
       "      <td>3654.0</td>\n",
       "      <td>3508.0</td>\n",
       "      <td>4579.0</td>\n",
       "      <td>8716.0</td>\n",
       "      <td>5563.0</td>\n",
       "      <td>18463.0</td>\n",
       "      <td>4297.0</td>\n",
       "    </tr>\n",
       "    <tr>\n",
       "      <th>2013-01-04</th>\n",
       "      <td>4486.0</td>\n",
       "      <td>4484.0</td>\n",
       "      <td>6069.0</td>\n",
       "      <td>8290.0</td>\n",
       "      <td>4456.0</td>\n",
       "      <td>6092.0</td>\n",
       "      <td>7758.0</td>\n",
       "      <td>4059.0</td>\n",
       "      <td>4798.0</td>\n",
       "      <td>5114.0</td>\n",
       "      <td>...</td>\n",
       "      <td>3956.0</td>\n",
       "      <td>3990.0</td>\n",
       "      <td>5491.0</td>\n",
       "      <td>3596.0</td>\n",
       "      <td>3933.0</td>\n",
       "      <td>4640.0</td>\n",
       "      <td>9788.0</td>\n",
       "      <td>5524.0</td>\n",
       "      <td>18371.0</td>\n",
       "      <td>4540.0</td>\n",
       "    </tr>\n",
       "    <tr>\n",
       "      <th>2013-01-05</th>\n",
       "      <td>4997.0</td>\n",
       "      <td>2342.0</td>\n",
       "      <td>4523.0</td>\n",
       "      <td>10338.0</td>\n",
       "      <td>1590.0</td>\n",
       "      <td>3872.0</td>\n",
       "      <td>5218.0</td>\n",
       "      <td>2337.0</td>\n",
       "      <td>4254.0</td>\n",
       "      <td>4256.0</td>\n",
       "      <td>...</td>\n",
       "      <td>2624.0</td>\n",
       "      <td>5128.0</td>\n",
       "      <td>2113.0</td>\n",
       "      <td>2897.0</td>\n",
       "      <td>3156.0</td>\n",
       "      <td>3325.0</td>\n",
       "      <td>9513.0</td>\n",
       "      <td>5194.0</td>\n",
       "      <td>18856.0</td>\n",
       "      <td>4771.0</td>\n",
       "    </tr>\n",
       "  </tbody>\n",
       "</table>\n",
       "<p>5 rows × 1115 columns</p>\n",
       "</div>"
      ],
      "text/plain": [
       "              1       2       3        4       5       6       7       8     \\\n",
       "Date                                                                          \n",
       "2013-01-01     0.0     0.0     0.0      0.0     0.0     0.0     0.0     0.0   \n",
       "2013-01-02  5530.0  4422.0  6823.0   9941.0  4253.0  6089.0  8244.0  5419.0   \n",
       "2013-01-03  4327.0  4159.0  5902.0   8247.0  3465.0  5398.0  7231.0  4842.0   \n",
       "2013-01-04  4486.0  4484.0  6069.0   8290.0  4456.0  6092.0  7758.0  4059.0   \n",
       "2013-01-05  4997.0  2342.0  4523.0  10338.0  1590.0  3872.0  5218.0  2337.0   \n",
       "\n",
       "              9       10     ...      1106    1107    1108    1109    1110  \\\n",
       "Date                         ...                                             \n",
       "2013-01-01     0.0     0.0   ...       0.0     0.0     0.0     0.0     0.0   \n",
       "2013-01-02  4903.0  4812.0   ...    5099.0  3955.0  6220.0  4576.0  4126.0   \n",
       "2013-01-03  4602.0  4675.0   ...    4330.0  3151.0  4779.0  3654.0  3508.0   \n",
       "2013-01-04  4798.0  5114.0   ...    3956.0  3990.0  5491.0  3596.0  3933.0   \n",
       "2013-01-05  4254.0  4256.0   ...    2624.0  5128.0  2113.0  2897.0  3156.0   \n",
       "\n",
       "              1111     1112    1113     1114    1115  \n",
       "Date                                                  \n",
       "2013-01-01     0.0      0.0     0.0      0.0     0.0  \n",
       "2013-01-02  5097.0  10797.0  6218.0  20642.0  3697.0  \n",
       "2013-01-03  4579.0   8716.0  5563.0  18463.0  4297.0  \n",
       "2013-01-04  4640.0   9788.0  5524.0  18371.0  4540.0  \n",
       "2013-01-05  3325.0   9513.0  5194.0  18856.0  4771.0  \n",
       "\n",
       "[5 rows x 1115 columns]"
      ]
     },
     "execution_count": 65,
     "metadata": {},
     "output_type": "execute_result"
    }
   ],
   "source": [
    "df1.head()"
   ]
  },
  {
   "cell_type": "markdown",
   "metadata": {},
   "source": [
    "## Modeling Details\n",
    "\n",
    "The competition evaluates participants based on Root Mean Squared Percentage Error, defined as: "
   ]
  },
  {
   "cell_type": "markdown",
   "metadata": {},
   "source": [
    "$$\\sqrt{\\frac{1}{n}\\sum_{i=1}^{n}\\left(\\frac{y_{i}-\\hat{y_{i}}}{y_{i}}\\right)^2}$$"
   ]
  },
  {
   "cell_type": "markdown",
   "metadata": {},
   "source": [
    "where yhat_i denotes sales predictions for date i and y_i denotes actual sales on day i. Any day and stores with 0 sales is ignored in scoring, so we can assume there won't be any 0 true sales values. "
   ]
  },
  {
   "cell_type": "markdown",
   "metadata": {},
   "source": [
    "As state above, my analysis will use only training set sales data to predict sales for the August 2015-September 2015 period. I will use exponential smoothing on the average of all stores' daily sales data to predict the test dates sales values. This is due mainly to time restrictions. As noted in my exploratory analysis, the data seems stationary, so exponential smoothing seems like a reasonable choice."
   ]
  },
  {
   "cell_type": "markdown",
   "metadata": {},
   "source": [
    "I also need to separate my data into training and validation sets to choose the best parameters for the exponential smoothing model. Since we have to estimate sales up to 6 weeks in the future in the Kaggle competition, and since we have time series data, I choose to validate my models on the last 6 weeks of the training set, and train the model on the remaining days."
   ]
  },
  {
   "cell_type": "markdown",
   "metadata": {},
   "source": [
    "## Exponential Smoothing Hyperparameter Search"
   ]
  },
  {
   "cell_type": "markdown",
   "metadata": {},
   "source": [
    "I will separate my data set into a training set and validation set, using the last 48 days as validation data (the same number of days as in the test set) and the rest as training data. As previously noted, since my data set is too big, I will only train and validate on the mean of all stores, rather than on each individual store. "
   ]
  },
  {
   "cell_type": "code",
   "execution_count": 66,
   "metadata": {},
   "outputs": [],
   "source": [
    "mean_data = df1.copy()\n",
    "mean_data['Mean_Sales'] = mean_data.mean(numeric_only=True, axis=1)\n",
    "mean_data = pd.DataFrame(mean_data.iloc[:, -1]).copy()\n",
    "\n",
    "train = mean_data.iloc[:len(df1)-48,:].copy()\n",
    "validate = mean_data.iloc[len(df1)-48:,:].copy()"
   ]
  },
  {
   "cell_type": "markdown",
   "metadata": {},
   "source": [
    "Recall the exponential smoothing additive model equations:"
   ]
  },
  {
   "cell_type": "markdown",
   "metadata": {},
   "source": [
    "$$\\hat{y}_{t+h|t} = l_{t} +hb_{t} + s_{t+h-m(k+1)}$$\n",
    "$$l_{t} = \\alpha(y_{t}-s_{t-m})+ (1-\\alpha)(l_{t-1} + b_{t-1})$$\n",
    "$$b_{t} = \\beta(l_{t}- l_{t-1}) + (1+\\beta)b_{t-1}$$\n",
    "$$s_{t} = \\gamma(y_{t}- l_{t-1}- b_{t-1})+ (1-\\gamma)s_{t-m}$$"
   ]
  },
  {
   "cell_type": "markdown",
   "metadata": {},
   "source": [
    "Validation step doing Grid Search:\n",
    "- I try out different alpa values from 0 to 1, at 0.1 intervals\n",
    "- I try additive for both seasonal and trend, and also put in None to create a model without a seasonal or trend component\n",
    "- I try seasonal periods of one week, a quarter, a semester, and annual, as these are good candidates for sales seasonality. "
   ]
  },
  {
   "cell_type": "code",
   "execution_count": 67,
   "metadata": {},
   "outputs": [],
   "source": [
    "#We will try validating using these hyperparamters to try and find the optimum:\n",
    "smoothing_level = [None, 0.1,0.2,0.3,0.4,0.5,0.6,0.7,0.8,0.9]\n",
    "seasonal = [None, 'additive', 'mult']\n",
    "trends= [None, 'additive']\n",
    "seasonal_periods = [7, 90, 180, 365]\n",
    "\n",
    "start = datetime.strptime('2015-06-14', '%Y-%m-%d')\n",
    "end = datetime.strptime('2015-07-31', '%Y-%m-%d')\n",
    "\n",
    "min_error = 99999999999\n",
    "best_alpha = None\n",
    "best_trend = None\n",
    "best_period = None\n",
    "best_seasonal = None\n",
    "\n",
    "for alpha in smoothing_level:\n",
    "    for period in seasonal_periods:\n",
    "        for t in trends:\n",
    "            for season in seasonal:\n",
    "                #Fit exponential smoothing model to Store i\n",
    "                exp = ExponentialSmoothing(train, seasonal= season, seasonal_periods = period, trend = t) \n",
    "                exp_model = exp.fit(smoothing_level=alpha) \n",
    "                #Predict Sales data for testing set period from August 01, 2015 to September 17, 2015\n",
    "                pred = exp_model.predict(start= start, end=end)\n",
    "                pred = pd.DataFrame(pred, columns = ['Predicted_Sales'])\n",
    "                \n",
    "                #Evaluate the root mean squared percentage error:\n",
    "                error = np.sqrt(1/len(validate)*sum(((validate['Mean_Sales']-pred['Predicted_Sales'])/validate['Mean_Sales'])**2))\n",
    "                if error<min_error:\n",
    "                    min_error = error\n",
    "                    best_alpha = alpha\n",
    "                    best_trend = t\n",
    "                    best_period = period\n",
    "                    best_seasonal = season"
   ]
  },
  {
   "cell_type": "markdown",
   "metadata": {},
   "source": [
    "The best hyperparameters found where:"
   ]
  },
  {
   "cell_type": "code",
   "execution_count": 68,
   "metadata": {},
   "outputs": [
    {
     "name": "stdout",
     "output_type": "stream",
     "text": [
      "The best ERROR: 0.1658953363207862, smoothing_level: 0.9, seasonal_period: 7, seasonal: additive, trend: None\n"
     ]
    }
   ],
   "source": [
    "print('The best ERROR: {}, smoothing_level: {}, seasonal_period: {}, seasonal: {}, trend: {}'.format(min_error, best_alpha, best_period, best_seasonal, best_trend))"
   ]
  },
  {
   "cell_type": "markdown",
   "metadata": {},
   "source": [
    "The optimal hyperaparamters found were: \n",
    "- alpha = 0.9, meaning that our model puts more emphasis on recent data points rather than on past data points to make predictions\n",
    "- seasonality = additive, meaning that incorporating additive seasonality to our model outperforms having no seasonality at all\n",
    "- seasonal_period = 7, meaning that our model found more predictive accuracy with weekly seasonality\n",
    "- trend = None, meaning that having no trend outperforms the predictive accuracy of having an additive trend component"
   ]
  },
  {
   "cell_type": "markdown",
   "metadata": {},
   "source": [
    "## Exponential Smoothing Predicting Test Data Set"
   ]
  },
  {
   "cell_type": "markdown",
   "metadata": {},
   "source": [
    "Now I use the hyperparameters found above to  make predictions in our test set. I get the testing set on which I need to predict sales values:"
   ]
  },
  {
   "cell_type": "code",
   "execution_count": 69,
   "metadata": {},
   "outputs": [
    {
     "data": {
      "text/html": [
       "<div>\n",
       "<style scoped>\n",
       "    .dataframe tbody tr th:only-of-type {\n",
       "        vertical-align: middle;\n",
       "    }\n",
       "\n",
       "    .dataframe tbody tr th {\n",
       "        vertical-align: top;\n",
       "    }\n",
       "\n",
       "    .dataframe thead th {\n",
       "        text-align: right;\n",
       "    }\n",
       "</style>\n",
       "<table border=\"1\" class=\"dataframe\">\n",
       "  <thead>\n",
       "    <tr style=\"text-align: right;\">\n",
       "      <th></th>\n",
       "      <th>Id</th>\n",
       "      <th>Date</th>\n",
       "    </tr>\n",
       "  </thead>\n",
       "  <tbody>\n",
       "    <tr>\n",
       "      <th>0</th>\n",
       "      <td>1</td>\n",
       "      <td>2015-09-17</td>\n",
       "    </tr>\n",
       "    <tr>\n",
       "      <th>1</th>\n",
       "      <td>2</td>\n",
       "      <td>2015-09-17</td>\n",
       "    </tr>\n",
       "    <tr>\n",
       "      <th>2</th>\n",
       "      <td>3</td>\n",
       "      <td>2015-09-17</td>\n",
       "    </tr>\n",
       "    <tr>\n",
       "      <th>3</th>\n",
       "      <td>4</td>\n",
       "      <td>2015-09-17</td>\n",
       "    </tr>\n",
       "    <tr>\n",
       "      <th>4</th>\n",
       "      <td>5</td>\n",
       "      <td>2015-09-17</td>\n",
       "    </tr>\n",
       "  </tbody>\n",
       "</table>\n",
       "</div>"
      ],
      "text/plain": [
       "   Id        Date\n",
       "0   1  2015-09-17\n",
       "1   2  2015-09-17\n",
       "2   3  2015-09-17\n",
       "3   4  2015-09-17\n",
       "4   5  2015-09-17"
      ]
     },
     "execution_count": 69,
     "metadata": {},
     "output_type": "execute_result"
    }
   ],
   "source": [
    "#Since I am only using Store# and Date as predictors, I only get these columns from the test set\n",
    "test = pd.read_csv('//Users/reynaldo/Documents/ROSSMANN DATA/test.csv')[['Id', 'Date']]\n",
    "\n",
    "#test[test.Store ==1]\n",
    "test.head()"
   ]
  },
  {
   "cell_type": "markdown",
   "metadata": {},
   "source": [
    "Now I use the optimum hyperparameters found above to predict dates found in the test set:"
   ]
  },
  {
   "cell_type": "code",
   "execution_count": 70,
   "metadata": {},
   "outputs": [
    {
     "data": {
      "text/html": [
       "<div>\n",
       "<style scoped>\n",
       "    .dataframe tbody tr th:only-of-type {\n",
       "        vertical-align: middle;\n",
       "    }\n",
       "\n",
       "    .dataframe tbody tr th {\n",
       "        vertical-align: top;\n",
       "    }\n",
       "\n",
       "    .dataframe thead th {\n",
       "        text-align: right;\n",
       "    }\n",
       "</style>\n",
       "<table border=\"1\" class=\"dataframe\">\n",
       "  <thead>\n",
       "    <tr style=\"text-align: right;\">\n",
       "      <th></th>\n",
       "      <th>Id</th>\n",
       "      <th>Sales</th>\n",
       "    </tr>\n",
       "  </thead>\n",
       "  <tbody>\n",
       "    <tr>\n",
       "      <th>0</th>\n",
       "      <td>1</td>\n",
       "      <td>8517.454022</td>\n",
       "    </tr>\n",
       "    <tr>\n",
       "      <th>1</th>\n",
       "      <td>2</td>\n",
       "      <td>8517.454022</td>\n",
       "    </tr>\n",
       "    <tr>\n",
       "      <th>2</th>\n",
       "      <td>3</td>\n",
       "      <td>8517.454022</td>\n",
       "    </tr>\n",
       "    <tr>\n",
       "      <th>3</th>\n",
       "      <td>4</td>\n",
       "      <td>8517.454022</td>\n",
       "    </tr>\n",
       "    <tr>\n",
       "      <th>4</th>\n",
       "      <td>5</td>\n",
       "      <td>8517.454022</td>\n",
       "    </tr>\n",
       "  </tbody>\n",
       "</table>\n",
       "</div>"
      ],
      "text/plain": [
       "   Id        Sales\n",
       "0   1  8517.454022\n",
       "1   2  8517.454022\n",
       "2   3  8517.454022\n",
       "3   4  8517.454022\n",
       "4   5  8517.454022"
      ]
     },
     "execution_count": 70,
     "metadata": {},
     "output_type": "execute_result"
    }
   ],
   "source": [
    "start = datetime.strptime('2015-08-01', '%Y-%m-%d')\n",
    "end = datetime.strptime('2015-09-17', '%Y-%m-%d')\n",
    "\n",
    "#Fit exponential smoothing model to Store i\n",
    "exp = ExponentialSmoothing(mean_data, seasonal= best_seasonal, seasonal_periods = best_period, trend = best_trend) \n",
    "exp_model = exp.fit(smoothing_level=best_alpha) \n",
    "\n",
    "#Predict Sales data for testing set period from August 01, 2015 to September 17, 2015\n",
    "pred = exp_model.predict(start= start, end=end)\n",
    "pred = pd.DataFrame(pred, columns = ['Predicted_Sales'])\n",
    "pred\n",
    "\n",
    "pred_df = pred.reset_index(level=0)\n",
    "pred_df.columns = ['Date', 'Sales']\n",
    "\n",
    "#Cast datetime as string in order to do proper joins\n",
    "predictions = pred_df.copy()\n",
    "predictions.Date = predictions.Date.apply(lambda x: x.strftime('%Y-%m-%d'))\n",
    "predictions = test.merge(predictions, on =['Date'], how = 'outer').copy()\n",
    "predictions = predictions[['Id', 'Sales']].copy()\n",
    "predictions.head()"
   ]
  },
  {
   "cell_type": "markdown",
   "metadata": {},
   "source": [
    "We only get 7 unique predictions that repeat on a weekly basis:"
   ]
  },
  {
   "cell_type": "code",
   "execution_count": 71,
   "metadata": {},
   "outputs": [
    {
     "data": {
      "text/html": [
       "<div>\n",
       "<style scoped>\n",
       "    .dataframe tbody tr th:only-of-type {\n",
       "        vertical-align: middle;\n",
       "    }\n",
       "\n",
       "    .dataframe tbody tr th {\n",
       "        vertical-align: top;\n",
       "    }\n",
       "\n",
       "    .dataframe thead th {\n",
       "        text-align: right;\n",
       "    }\n",
       "</style>\n",
       "<table border=\"1\" class=\"dataframe\">\n",
       "  <thead>\n",
       "    <tr style=\"text-align: right;\">\n",
       "      <th></th>\n",
       "      <th>Day</th>\n",
       "      <th>Prediction</th>\n",
       "    </tr>\n",
       "  </thead>\n",
       "  <tbody>\n",
       "    <tr>\n",
       "      <th>0</th>\n",
       "      <td>Saturday</td>\n",
       "      <td>8146.024964</td>\n",
       "    </tr>\n",
       "    <tr>\n",
       "      <th>1</th>\n",
       "      <td>Sunday</td>\n",
       "      <td>2642.365089</td>\n",
       "    </tr>\n",
       "    <tr>\n",
       "      <th>2</th>\n",
       "      <td>Monday</td>\n",
       "      <td>9739.110385</td>\n",
       "    </tr>\n",
       "    <tr>\n",
       "      <th>3</th>\n",
       "      <td>Tuesday</td>\n",
       "      <td>8894.122734</td>\n",
       "    </tr>\n",
       "    <tr>\n",
       "      <th>4</th>\n",
       "      <td>Wednesday</td>\n",
       "      <td>8461.448092</td>\n",
       "    </tr>\n",
       "    <tr>\n",
       "      <th>5</th>\n",
       "      <td>Thursday</td>\n",
       "      <td>8517.454022</td>\n",
       "    </tr>\n",
       "    <tr>\n",
       "      <th>6</th>\n",
       "      <td>Friday</td>\n",
       "      <td>8995.337562</td>\n",
       "    </tr>\n",
       "  </tbody>\n",
       "</table>\n",
       "</div>"
      ],
      "text/plain": [
       "         Day   Prediction\n",
       "0   Saturday  8146.024964\n",
       "1     Sunday  2642.365089\n",
       "2     Monday  9739.110385\n",
       "3    Tuesday  8894.122734\n",
       "4  Wednesday  8461.448092\n",
       "5   Thursday  8517.454022\n",
       "6     Friday  8995.337562"
      ]
     },
     "execution_count": 71,
     "metadata": {},
     "output_type": "execute_result"
    }
   ],
   "source": [
    "days = pd.DataFrame({'Day': ['Saturday', 'Sunday', 'Monday', 'Tuesday', 'Wednesday', 'Thursday', 'Friday'], 'Prediction': pred.Predicted_Sales.unique()})\n",
    "days"
   ]
  },
  {
   "cell_type": "markdown",
   "metadata": {},
   "source": [
    "We see that Sunday is the lowest predicted sales day we have. The other days have similar sales predictons, with Monday being the highest of all:"
   ]
  },
  {
   "cell_type": "code",
   "execution_count": 72,
   "metadata": {},
   "outputs": [
    {
     "data": {
      "image/png": "[encoded data removed]",
      "text/plain": [
       "<Figure size 432x288 with 1 Axes>"
      ]
     },
     "metadata": {
      "needs_background": "light"
     },
     "output_type": "display_data"
    }
   ],
   "source": [
    "plt.plot(['Sat', 'Sun', 'Mon', 'Tues', 'Wed', 'Thurs', 'Fri'], days.Prediction)\n",
    "plt.ylabel('Daily Predicted Sales')\n",
    "plt.xlabel('Day')\n",
    "plt.title('Predicted Sales for Each Week Day')\n",
    "plt.show()"
   ]
  },
  {
   "cell_type": "markdown",
   "metadata": {},
   "source": [
    "Now I write the results onto a file to submit it to Kaggle:"
   ]
  },
  {
   "cell_type": "code",
   "execution_count": 73,
   "metadata": {},
   "outputs": [],
   "source": [
    "predictions.to_csv('/Users/reynaldo/Documents/ROSSMANN DATA/submission.csv', index=False)"
   ]
  },
  {
   "cell_type": "markdown",
   "metadata": {},
   "source": [
    "## Results and Conclusion"
   ]
  },
  {
   "cell_type": "markdown",
   "metadata": {},
   "source": [
    "My Kaggle submission got an error of 0.71373, which is much higher than the error I got in the validation data set of 0.165. This could mean that I should have done a more robust validation in order to get a more accurate error rate for my model (perhaps using multiple validation sets). Also, a more robust imputation method for missing values should lead to more accurate results, perhahps by using other predictors to fill in missing sales data.\n",
    "\n",
    "Another weak aspect of my model is that I averaged sales among all stores for training and predictions. This eliminates the ability of my model to make more accurate predictions based on stores number. Note that I chose to use average sales among all stores because of time constraints: training and predicting sales for each store was extremely time consuming, taking about 1 hour to train a single model. More time (or more computing power) would've allowed me to build a more accurate model, allowing me to also try other time series models such as ARIMA and moving average.\n",
    "\n",
    "Finally, my error rate could've been so high because of the fact that I didn't include any other predictors in my data besides Sales (due to time constraints). The lack of predictors and the high error rate suggest that my model may not be outperforming store managers' predictive sales capacities. A more robust model building is required to meet this goal. \n",
    "\n",
    "This was a challenging data set to work with because of its size (1 million+ data points). I actually tried to create an exponential smoothing model for each of the stores, but stopped due to time constraints (one model would take about an hour to train, so doing hyperparameter optimization via grid search was infeasable). I am confident that as I progress through my MS in Analytics program, I will broaden my tools set and model building capabilities to create more accurate models."
   ]
  }
 ],
 "metadata": {
  "kernelspec": {
   "display_name": "Python 3",
   "language": "python",
   "name": "python3"
  },
  "language_info": {
   "codemirror_mode": {
    "name": "ipython",
    "version": 3
   },
   "file_extension": ".py",
   "mimetype": "text/x-python",
   "name": "python",
   "nbconvert_exporter": "python",
   "pygments_lexer": "ipython3",
   "version": "3.6.4"
  }
 },
 "nbformat": 4,
 "nbformat_minor": 2
}
